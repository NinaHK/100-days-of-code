{
  "nbformat": 4,
  "nbformat_minor": 0,
  "metadata": {
    "colab": {
      "name": "pd_thesis_2021.ipynb",
      "provenance": [],
      "collapsed_sections": [],
      "authorship_tag": "ABX9TyMyextB58oU1VD5I7/iMICR",
      "include_colab_link": true
    },
    "kernelspec": {
      "name": "python3",
      "display_name": "Python 3"
    }
  },
  "cells": [
    {
      "cell_type": "markdown",
      "metadata": {
        "id": "view-in-github",
        "colab_type": "text"
      },
      "source": [
        "<a href=\"https://colab.research.google.com/github/NinaHKivanani/100-days-of-code/blob/master/pd_thesis_2021.ipynb\" target=\"_parent\"><img src=\"https://colab.research.google.com/assets/colab-badge.svg\" alt=\"Open In Colab\"/></a>"
      ]
    },
    {
      "cell_type": "code",
      "metadata": {
        "colab": {
          "base_uri": "https://localhost:8080/"
        },
        "id": "-aQaYgkVp2rk",
        "outputId": "7e9b17ba-f0b8-4854-bc35-de9ae4a878ce"
      },
      "source": [
        "from google.colab import drive\r\n",
        "drive.mount('/content/drive')\r\n"
      ],
      "execution_count": 4,
      "outputs": [
        {
          "output_type": "stream",
          "text": [
            "Mounted at /content/drive\n"
          ],
          "name": "stdout"
        }
      ]
    },
    {
      "cell_type": "code",
      "metadata": {
        "colab": {
          "base_uri": "https://localhost:8080/"
        },
        "id": "2nW4JLu_rfY6",
        "outputId": "3c601433-bc02-482d-dad9-748ec394032f"
      },
      "source": [
        "%cd drive/My\\ Drive/"
      ],
      "execution_count": 5,
      "outputs": [
        {
          "output_type": "stream",
          "text": [
            "/content/drive/My Drive\n"
          ],
          "name": "stdout"
        }
      ]
    },
    {
      "cell_type": "code",
      "metadata": {
        "id": "gBUy7pXRs0K_"
      },
      "source": [
        "#!git@github.com:NinaHKivanani/PD_Phonological_features.git\r\n",
        "\r\n",
        "#! git@github.com:NinaHKivanani/PD_Phonological_features.git\r\n",
        "\r\n",
        "\r\n",
        "\r\n"
      ],
      "execution_count": 13,
      "outputs": []
    },
    {
      "cell_type": "markdown",
      "metadata": {
        "id": "rnRqMJgVkltf"
      },
      "source": [
        "# PD's speech\r\n",
        "Thesis-Potsdam University"
      ]
    },
    {
      "cell_type": "markdown",
      "metadata": {
        "id": "R641nMhrkZE3"
      },
      "source": [
        "## Import\r\n",
        " Importing the required libraries\r\n"
      ]
    },
    {
      "cell_type": "code",
      "metadata": {
        "id": "YMtYDB6Ejpts"
      },
      "source": [
        "import re, glob, sys, time, os\r\n",
        "import sklearn\r\n",
        "from sklearn.metrics import recall_score, precision_score, f1_score, classification_report\r\n",
        "from sklearn.metrics import accuracy_score, confusion_matrix, precision_recall_fscore_support\r\n",
        "import matplotlib.pyplot as plt\r\n",
        "from matplotlib import pyplot\r\n",
        "from pylab import savefig\r\n",
        "import pandas as pd\r\n",
        "import numpy as np\r\n",
        "import scipy as sp\r\n",
        "import seaborn as sns\r\n",
        "from sklearn.preprocessing import StandardScaler\r\n",
        "\r\n",
        "\r\n",
        "#classification \r\n",
        "from sklearn import svm, datasets\r\n",
        "from sklearn.svm import LinearSVC\r\n",
        "from sklearn import model_selection\r\n",
        "from sklearn.model_selection import train_test_split, cross_val_predict, cross_val_score, learning_curve, GridSearchCV\r\n",
        "from sklearn.tree import DecisionTreeClassifier\r\n",
        "from sklearn.ensemble import RandomForestClassifier, VotingClassifier\r\n",
        "from sklearn import tree\r\n",
        "from sklearn.datasets import make_classification\r\n",
        "from ipykernel import kernelapp as app\r\n",
        "\r\n",
        "%matplotlib inline\r\n"
      ],
      "execution_count": 1,
      "outputs": []
    }
  ]
}